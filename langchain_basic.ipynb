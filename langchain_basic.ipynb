{
 "cells": [
  {
   "cell_type": "markdown",
   "metadata": {},
   "source": [
    "## 1. Chatmodels"
   ]
  },
  {
   "cell_type": "code",
   "execution_count": 1,
   "metadata": {},
   "outputs": [
    {
     "data": {
      "text/plain": [
       "AIMessage(content='안녕! 반가워! 어떻게 도와줄까요?', additional_kwargs={'refusal': None}, response_metadata={'token_usage': {'completion_tokens': 14, 'prompt_tokens': 14, 'total_tokens': 28, 'completion_tokens_details': {'accepted_prediction_tokens': 0, 'audio_tokens': 0, 'reasoning_tokens': 0, 'rejected_prediction_tokens': 0}, 'prompt_tokens_details': {'audio_tokens': 0, 'cached_tokens': 0}}, 'model_name': 'gpt-4o-mini-2024-07-18', 'system_fingerprint': 'fp_80cf447eee', 'id': 'chatcmpl-BLU0EDg27c1rr5X6F4ljdzZJBLgiH', 'finish_reason': 'stop', 'logprobs': None}, id='run-f6e625e1-08b0-4308-b1e1-6021351cbe75-0', usage_metadata={'input_tokens': 14, 'output_tokens': 14, 'total_tokens': 28, 'input_token_details': {'audio': 0, 'cache_read': 0}, 'output_token_details': {'audio': 0, 'reasoning': 0}})"
      ]
     },
     "execution_count": 1,
     "metadata": {},
     "output_type": "execute_result"
    }
   ],
   "source": [
    "from langchain_openai import ChatOpenAI\n",
    "\n",
    "llm = ChatOpenAI(model=\"gpt-4o-mini\")\n",
    "\n",
    "llm.invoke(\"안녕! 반가워!\")"
   ]
  },
  {
   "cell_type": "code",
   "execution_count": 9,
   "metadata": {},
   "outputs": [
    {
     "data": {
      "text/plain": [
       "AIMessage(content='안녕하세요! 반갑습니다! 어떻게 도와드릴까요?', additional_kwargs={'refusal': None}, response_metadata={'token_usage': {'completion_tokens': 15, 'prompt_tokens': 14, 'total_tokens': 29, 'completion_tokens_details': {'accepted_prediction_tokens': 0, 'audio_tokens': 0, 'reasoning_tokens': 0, 'rejected_prediction_tokens': 0}, 'prompt_tokens_details': {'audio_tokens': 0, 'cached_tokens': 0}}, 'model_name': 'gpt-4o-mini-2024-07-18', 'system_fingerprint': 'fp_44added55e', 'id': 'chatcmpl-BLU2IJoviM0Ti6xcRHyXVDiFi4DhV', 'finish_reason': 'stop', 'logprobs': None}, id='run-bbe9ede1-9cd3-4f83-8ebc-47b7d5bcdad0-0', usage_metadata={'input_tokens': 14, 'output_tokens': 15, 'total_tokens': 29, 'input_token_details': {'audio': 0, 'cache_read': 0}, 'output_token_details': {'audio': 0, 'reasoning': 0}})"
      ]
     },
     "execution_count": 9,
     "metadata": {},
     "output_type": "execute_result"
    }
   ],
   "source": [
    "from langchain_openai import ChatOpenAI\n",
    "\n",
    "llm = ChatOpenAI(\n",
    "    model=\"gpt-4o-mini\",\n",
    "    temperature=1.5\n",
    "    )\n",
    "\n",
    "llm.invoke(\"안녕! 반가워!\")"
   ]
  },
  {
   "cell_type": "markdown",
   "metadata": {},
   "source": [
    "## 2. Prompt Setting"
   ]
  },
  {
   "cell_type": "code",
   "execution_count": 12,
   "metadata": {},
   "outputs": [
    {
     "data": {
      "text/plain": [
       "AIMessage(content='나는 프로그래밍을 좋아해요.', additional_kwargs={'refusal': None}, response_metadata={'token_usage': {'completion_tokens': 10, 'prompt_tokens': 26, 'total_tokens': 36, 'completion_tokens_details': {'accepted_prediction_tokens': 0, 'audio_tokens': 0, 'reasoning_tokens': 0, 'rejected_prediction_tokens': 0}, 'prompt_tokens_details': {'audio_tokens': 0, 'cached_tokens': 0}}, 'model_name': 'gpt-4o-mini-2024-07-18', 'system_fingerprint': 'fp_d02d531b47', 'finish_reason': 'stop', 'logprobs': None}, id='run-2e70b4c9-c392-4654-b765-2a3d5a0b51f9-0', usage_metadata={'input_tokens': 26, 'output_tokens': 10, 'total_tokens': 36, 'input_token_details': {'audio': 0, 'cache_read': 0}, 'output_token_details': {'audio': 0, 'reasoning': 0}})"
      ]
     },
     "execution_count": 12,
     "metadata": {},
     "output_type": "execute_result"
    }
   ],
   "source": [
    "prompt = [\n",
    "        (\"system\",\n",
    "            \"\"\"    \n",
    "            당신은 글쓰기 채점 및 피드백 도우미입니다. \n",
    "            학생이 현재까지 쓴 글을 읽고, 최저 1점에서 최대 5점의 점수를 제공해주세요.\n",
    "            \"\"\"\n",
    "        ),\n",
    "        (\"human\", \n",
    "            \"\"\"\n",
    "            오늘 아침에 눈을 떳다. 학교에 갔다가 친구들이랑 놀았다가 집에 왔다. 엄마가 맛있는 저녁을 해줬다. TV를 보다가 잠들었다.\n",
    "            \"\"\"\n",
    "         )\n",
    "    ]\n",
    "\n",
    "llm.invoke(prompt)"
   ]
  },
  {
   "cell_type": "code",
   "execution_count": null,
   "metadata": {},
   "outputs": [],
   "source": [
    "prompt = [\n",
    "        (\"system\",\n",
    "            \"\"\"    \n",
    "            당신은 글쓰기 채점 및 피드백 도우미입니다. \n",
    "            학생이 현재까지 쓴 글을 읽고, 최저 1점에서 최대 5점의 점수를 제공해주세요.\n",
    "            \"\"\"\n",
    "        ),\n",
    "        (\"human\", \n",
    "            \"\"\"\n",
    "            오늘 아침에 눈을 떳다. 학교에 갔다가 친구들이랑 놀았다가 집에 왔다. 엄마가 맛있는 저녁을 해줬다. TV를 보다가 잠들었다.\n",
    "            \"\"\"\n",
    "         )\n",
    "         (\"assistant\",\n",
    "          \"그런 식으로 쓸거면 그냥 쓰지 마세요.....\")\n",
    "    ]\n",
    "\n",
    "llm.invoke(prompt)"
   ]
  },
  {
   "cell_type": "code",
   "execution_count": 2,
   "metadata": {},
   "outputs": [
    {
     "data": {
      "text/plain": [
       "AIMessage(content='점수: 2점\\n\\n피드백: 글이 간단하고 일상적인 내용을 담고 있지만, 조금 더 구체적이고 자세한 설명이 필요합니다. 예를 들어, 학교에서 어떤 활동을 했는지, 친구들과 어떤 놀이를 했는지, 저녁은 어떤 음식이었는지 등을 추가하면 독자가 더 흥미롭게 느낄 수 있습니다. 문장을 다양하게 구성하고 감정을 표현하면 글이 더 풍부해질 것입니다.', additional_kwargs={'refusal': None}, response_metadata={'token_usage': {'completion_tokens': 105, 'prompt_tokens': 110, 'total_tokens': 215, 'completion_tokens_details': {'accepted_prediction_tokens': 0, 'audio_tokens': 0, 'reasoning_tokens': 0, 'rejected_prediction_tokens': 0}, 'prompt_tokens_details': {'audio_tokens': 0, 'cached_tokens': 0}}, 'model_name': 'gpt-4o-mini-2024-07-18', 'system_fingerprint': 'fp_f2cd28694a', 'finish_reason': 'stop', 'logprobs': None}, id='run-e07c4203-2fe8-4e8f-a584-d2732dc82371-0', usage_metadata={'input_tokens': 110, 'output_tokens': 105, 'total_tokens': 215, 'input_token_details': {'audio': 0, 'cache_read': 0}, 'output_token_details': {'audio': 0, 'reasoning': 0}})"
      ]
     },
     "execution_count": 2,
     "metadata": {},
     "output_type": "execute_result"
    }
   ],
   "source": [
    "from langchain_core.prompts import ChatPromptTemplate\n",
    "\n",
    "prompt = ChatPromptTemplate.from_messages(\n",
    "    [\n",
    "        (\"system\",\n",
    "            \"\"\"    \n",
    "            당신은 글쓰기 채점 및 피드백 도우미입니다. \n",
    "            학생이 현재까지 쓴 글을 읽고, 최저 {min_score}점에서 최대 {max_score}점의 점수를 제공해주세요.\n",
    "            \"\"\"\n",
    "        ),\n",
    "        (\"human\", \n",
    "            \"\"\"\n",
    "            {input}\n",
    "            \"\"\"\n",
    "         )\n",
    "    ]\n",
    ")\n",
    "\n",
    "### The pipe operator |\n",
    "\n",
    "chain = prompt | llm\n",
    "chain.invoke(\n",
    "    {\n",
    "        \"min_score\" : \"1점\",\n",
    "        \"max_score\" : \"5점\",\n",
    "        \"input\" : \"오늘 아침에 눈을 떳다. 학교에 갔다가 친구들이랑 놀았다가 집에 왔다. 엄마가 맛있는 저녁을 해줬다. TV를 보다가 잠들었다.\"\n",
    "    }\n",
    ")"
   ]
  },
  {
   "cell_type": "code",
   "execution_count": 3,
   "metadata": {},
   "outputs": [
    {
     "data": {
      "text/plain": [
       "'이 글은 일상적인 하루를 간단하게 서술하고 있습니다. 문장이 간결하고 이해하기 쉬운 점은 긍정적입니다. 그러나 내용이 다소 단조롭고 구체적인 감정이나 생각이 부족하여 독자의 흥미를 끌기에는 부족합니다. \\n\\n점수: 3점. \\n\\n조금 더 구체적인 묘사나 감정을 추가하면 좋을 것 같습니다. 예를 들어, 친구들과 놀았을 때의 구체적인 활동이나 저녁의 맛에 대한 느낌을 더하면 글이 풍부해질 것입니다.'"
      ]
     },
     "execution_count": 3,
     "metadata": {},
     "output_type": "execute_result"
    }
   ],
   "source": [
    "from langchain_core.prompts import ChatPromptTemplate\n",
    "from langchain_core.output_parsers import StrOutputParser\n",
    "\n",
    "prompt = ChatPromptTemplate.from_messages(\n",
    "    [\n",
    "        (\"system\",\n",
    "            \"\"\"    \n",
    "            당신은 글쓰기 채점 및 피드백 도우미입니다. \n",
    "            학생이 현재까지 쓴 글을 읽고, 최저 {min_score}점에서 최대 {max_score}점의 점수를 제공해주세요.\n",
    "            \"\"\"\n",
    "        ),\n",
    "        (\"human\", \n",
    "            \"\"\"\n",
    "            {input}\n",
    "            \"\"\"\n",
    "         )\n",
    "    ]\n",
    ")\n",
    "\n",
    "### The pipe operator |\n",
    "\n",
    "chain = prompt | llm | StrOutputParser()\n",
    "chain.invoke(\n",
    "    {\n",
    "        \"min_score\" : \"1점\",\n",
    "        \"max_score\" : \"5점\",\n",
    "        \"input\" : \"오늘 아침에 눈을 떳다. 학교에 갔다가 친구들이랑 놀았다가 집에 왔다. 엄마가 맛있는 저녁을 해줬다. TV를 보다가 잠들었다.\"\n",
    "    }\n",
    ")"
   ]
  },
  {
   "cell_type": "markdown",
   "metadata": {},
   "source": [
    "## 3. Chains"
   ]
  },
  {
   "cell_type": "code",
   "execution_count": 1,
   "metadata": {},
   "outputs": [
    {
     "ename": "NameError",
     "evalue": "name 'ChatPromptTemplate' is not defined",
     "output_type": "error",
     "traceback": [
      "\u001b[1;31m---------------------------------------------------------------------------\u001b[0m",
      "\u001b[1;31mNameError\u001b[0m                                 Traceback (most recent call last)",
      "Cell \u001b[1;32mIn[1], line 3\u001b[0m\n\u001b[0;32m      1\u001b[0m \u001b[38;5;28;01mfrom\u001b[39;00m\u001b[38;5;250m \u001b[39m\u001b[38;5;21;01mlangchain_core\u001b[39;00m\u001b[38;5;21;01m.\u001b[39;00m\u001b[38;5;21;01moutput_parsers\u001b[39;00m\u001b[38;5;250m \u001b[39m\u001b[38;5;28;01mimport\u001b[39;00m StrOutputParser\n\u001b[1;32m----> 3\u001b[0m analysis_prompt \u001b[38;5;241m=\u001b[39m \u001b[43mChatPromptTemplate\u001b[49m\u001b[38;5;241m.\u001b[39mfrom_template(\u001b[38;5;124m\"\u001b[39m\u001b[38;5;124mis this a funny joke? \u001b[39m\u001b[38;5;132;01m{joke}\u001b[39;00m\u001b[38;5;124m\"\u001b[39m)\n\u001b[0;32m      5\u001b[0m composed_chain \u001b[38;5;241m=\u001b[39m {\u001b[38;5;124m\"\u001b[39m\u001b[38;5;124mjoke\u001b[39m\u001b[38;5;124m\"\u001b[39m: chain} \u001b[38;5;241m|\u001b[39m analysis_prompt \u001b[38;5;241m|\u001b[39m model \u001b[38;5;241m|\u001b[39m StrOutputParser()\n\u001b[0;32m      7\u001b[0m composed_chain\u001b[38;5;241m.\u001b[39minvoke({\u001b[38;5;124m\"\u001b[39m\u001b[38;5;124mtopic\u001b[39m\u001b[38;5;124m\"\u001b[39m: \u001b[38;5;124m\"\u001b[39m\u001b[38;5;124mbears\u001b[39m\u001b[38;5;124m\"\u001b[39m})\n",
      "\u001b[1;31mNameError\u001b[0m: name 'ChatPromptTemplate' is not defined"
     ]
    }
   ],
   "source": [
    "from langchain_core.output_parsers import StrOutputParser\n",
    "\n",
    "analysis_prompt = ChatPromptTemplate.from_template(\"is this a funny joke? {joke}\")\n",
    "\n",
    "composed_chain = {\"joke\": chain} | analysis_prompt | model | StrOutputParser()\n",
    "\n",
    "composed_chain.invoke({\"topic\": \"bears\"})"
   ]
  },
  {
   "cell_type": "markdown",
   "metadata": {},
   "source": [
    "# Quiz"
   ]
  },
  {
   "cell_type": "markdown",
   "metadata": {},
   "source": [
    "1. OpenAI의 gpt-4o-mini모델을 활용하며, 만든 모델은 llm이라는 변수에 할당하세요.\n",
    "2. llm.invoke(\"여기\") <- 이 코드를 활용해서 답변을 생성하도록 합니다. 이 때, '여기'에 상황 또는 키워드를 입력하면 내가 원하는 가정통신문이 나올 수 있도록 프롬프트를 작성하세요.  "
   ]
  },
  {
   "cell_type": "markdown",
   "metadata": {},
   "source": []
  }
 ],
 "metadata": {
  "kernelspec": {
   "display_name": "env",
   "language": "python",
   "name": "python3"
  },
  "language_info": {
   "codemirror_mode": {
    "name": "ipython",
    "version": 3
   },
   "file_extension": ".py",
   "mimetype": "text/x-python",
   "name": "python",
   "nbconvert_exporter": "python",
   "pygments_lexer": "ipython3",
   "version": "3.12.10"
  }
 },
 "nbformat": 4,
 "nbformat_minor": 2
}
